{
 "cells": [
  {
   "cell_type": "code",
   "execution_count": 1,
   "id": "206a3ff7",
   "metadata": {},
   "outputs": [],
   "source": [
    "import re\n",
    " \n",
    "MAIL_REGEX = r'\\b[A-Za-z0-9._%+-]+@[A-Za-z0-9.-]+\\.[A-Z|a-z]{2,}\\b'\n",
    " \n",
    "def checkMail(email):\n",
    "    if(re.fullmatch(MAIL_REGEX, email)):\n",
    "        print(\"Valid Email.\")\n",
    "        return True\n",
    "    else:\n",
    "        print(\"Invalid Email.\")\n",
    "        return False\n",
    "\n",
    "def insertMail():\n",
    "    mail = input(\"Enter your email:\")\n",
    "    if checkMail(mail)==True:\n",
    "        return mail\n",
    "    else:\n",
    "        print('\\n')\n",
    "        insertMail()"
   ]
  },
  {
   "cell_type": "code",
   "execution_count": 2,
   "id": "f474ca88",
   "metadata": {},
   "outputs": [],
   "source": [
    "def insertFirstname():\n",
    "    return input('Enter your firstname:')\n",
    "\n",
    "def insertLastname():\n",
    "    return input('Enter your lastname:')"
   ]
  },
  {
   "cell_type": "code",
   "execution_count": 3,
   "id": "a8ec3bcd",
   "metadata": {},
   "outputs": [],
   "source": [
    "import hashlib\n",
    "\n",
    "def insertPassword():\n",
    "    password = input(\"Enter your password:\")\n",
    "    checkPassword = input (\"Verify password:\")\n",
    "    if password == checkPassword :\n",
    "        print(\"Password verified.\")\n",
    "        password = hashlib.sha256(bytes(password, encoding=\"ascii\")).hexdigest()\n",
    "        return password\n",
    "    else:\n",
    "        print(\"Password not verified.\")\n",
    "        print('\\n')\n",
    "        insertPassword()"
   ]
  },
  {
   "cell_type": "code",
   "execution_count": 4,
   "id": "e6633acc",
   "metadata": {},
   "outputs": [],
   "source": [
    "import psycopg2\n",
    "#You need to create a database manually and then put the configuarion here\n",
    "def databaseConfig():\n",
    "    conn = psycopg2.connect(\n",
    "        host=\"localhost\",\n",
    "        database=\"tp-securite\",\n",
    "        user=\"postgres\",\n",
    "        password=\"gh\")\n",
    "\n",
    "    cursor = conn.cursor()\n",
    "    cursor.execute(\"CREATE TABLE IF NOT EXISTS users (id SERIAL PRIMARY KEY, firstname VARCHAR(50), lastname varchar(50), email varchar(100) UNIQUE, password VARCHAR(255)); \")\n",
    "    return conn\n"
   ]
  },
  {
   "cell_type": "code",
   "execution_count": 5,
   "id": "d2cc11ef",
   "metadata": {},
   "outputs": [],
   "source": [
    "def signup(conn):\n",
    "    firstname = insertFirstname()\n",
    "    lastname = insertLastname()\n",
    "    email = insertMail()\n",
    "    password = insertPassword() \n",
    "    cursor = conn.cursor()\n",
    "    cursor.execute(\"INSERT INTO users (firstname, lastname, email, password) VALUES (%s, %s, %s, %s)\",\n",
    "          (firstname, lastname, email, password))\n",
    "    conn.commit()\n",
    "    print('User inserted successfully.')"
   ]
  },
  {
   "cell_type": "code",
   "execution_count": 6,
   "id": "cfc3b204",
   "metadata": {},
   "outputs": [],
   "source": [
    "import getpass\n",
    "\n",
    "def login(conn):\n",
    "    email=insertMail()\n",
    "    password = getpass.getpass('Enter your password:')\n",
    "    hashedPassword=hashlib.sha256(bytes(password, encoding=\"ascii\")).hexdigest()\n",
    "    cursor = conn.cursor()\n",
    "    cursor.execute(\"SELECT email, password FROM users WHERE email=%s AND password=%s;\", \n",
    "                   (email, hashedPassword))\n",
    "    result=cursor.fetchone()\n",
    "    if result:\n",
    "        print (\"User authentified.\")\n",
    "        return True\n",
    "    else:\n",
    "        print('Email or password incorrect.')\n",
    "        return False"
   ]
  },
  {
   "cell_type": "code",
   "execution_count": 7,
   "id": "b8ee6a29",
   "metadata": {},
   "outputs": [],
   "source": [
    "# CODAGE & DECODAGE\n",
    "\n",
    "def encodeDecode():\n",
    "    choice=input('Press 1 for encoding. \\nPress 2 for decoding.\\n')\n",
    "    if choice != '1' and choice != '2':\n",
    "        encodeDecode()\n",
    "    if choice == '1':\n",
    "        strOriginal = input('Please enter string to encode:\\n')\n",
    "        strEncoded = strOriginal.encode(\"ascii\", \"replace\")\n",
    "        print('Encoded bytes =', strEncoded)\n",
    "        return strEncoded\n",
    "    else:\n",
    "        strOriginal = input('Please enter string to decode:\\n')\n",
    "        strDecoded = strOriginal.decode()\n",
    "        print('Decoded String =', strDecoded)\n",
    "        return strDecoded\n",
    "    \n"
   ]
  },
  {
   "cell_type": "code",
   "execution_count": 99,
   "id": "47f1e569",
   "metadata": {},
   "outputs": [
    {
     "name": "stdout",
     "output_type": "stream",
     "text": [
      "Press 1 for hashing with MD5. \n",
      "Press 2 for hashing with SHA1.\n",
      "Press 3 for hashing with SHA256.\n",
      "1\n",
      "Enter string you want to hash:hytrf\n",
      "Your hashed string is: 588605e5f53012e8760005e0fd4eedd3\n"
     ]
    },
    {
     "data": {
      "text/plain": [
       "'588605e5f53012e8760005e0fd4eedd3'"
      ]
     },
     "execution_count": 99,
     "metadata": {},
     "output_type": "execute_result"
    }
   ],
   "source": [
    "#HACHAGE\n",
    "import hashlib\n",
    "\n",
    "def hashFunction():\n",
    "    choice=input('Press 1 for hashing with MD5. \\nPress 2 for hashing with SHA1.\\nPress 3 for hashing with SHA256.\\n')\n",
    "    if choice != '1' and choice != '2' and choice != '3':\n",
    "        hashFunction()\n",
    "    strOriginal = input('Enter string you want to hash:')\n",
    "    if choice == '1':\n",
    "        strHashed=hashlib.md5(bytes(strOriginal, encoding=\"ascii\")).hexdigest()\n",
    "    if choice == '2':\n",
    "        strHashed=hashlib.sha1(bytes(strOriginal, encoding=\"ascii\")).hexdigest()\n",
    "    if choice == '3':\n",
    "        strHashed=hashlib.sha256(bytes(strOriginal, encoding=\"ascii\")).hexdigest()\n",
    "    print('Your hashed string is:', strHashed)\n",
    "    return strHashed\n",
    "\n",
    "hashFunction()"
   ]
  },
  {
   "cell_type": "code",
   "execution_count": 97,
   "id": "48912ee8",
   "metadata": {},
   "outputs": [],
   "source": [
    "# Craquage d'un message hashé\n",
    "def crack(hashedMessage):\n",
    "    FILE = open(\"wordlist_max_6_char.txt\",\"r\")\n",
    "    choice=input('Press 1 for cracking MD5. \\nPress 2 for cracking SHA1.\\nPress 3 for cracking SHA256.\\n')\n",
    "    if choice != '1' and choice != '2' and choice != '3':\n",
    "        crack(hashedMessage)\n",
    "    if choice == '1': \n",
    "            for line in FILE:\n",
    "            #     strip is a function that removes whitespaces from the start and the end of a string\n",
    "                if hashlib.md5(bytes(line.strip(), encoding=\"ascii\")).hexdigest()==hashedMessage:\n",
    "                    break\n",
    "    if choice == '2': \n",
    "            for line in FILE:\n",
    "            #     strip is a function that removes whitespaces from the start and the end of a string\n",
    "                if hashlib.sha1(bytes(line.strip(), encoding=\"ascii\")).hexdigest()==hashedMessage:\n",
    "                    break\n",
    "    if choice == '3': \n",
    "            for line in FILE:\n",
    "            #     strip is a function that removes whitespaces from the start and the end of a string\n",
    "                if hashlib.sha256(bytes(line.strip(), encoding=\"ascii\")).hexdigest()==hashedMessage:\n",
    "                    break\n",
    "    print('Your message is: ', line)"
   ]
  },
  {
   "cell_type": "code",
   "execution_count": 9,
   "id": "17a87ed6",
   "metadata": {},
   "outputs": [
    {
     "name": "stdout",
     "output_type": "stream",
     "text": [
      "Enter your email:\n",
      "Invalid Email.\n",
      "\n",
      "\n",
      "Enter your email:\n",
      "Invalid Email.\n",
      "\n",
      "\n",
      "Enter your email:\n",
      "Invalid Email.\n",
      "\n",
      "\n",
      "Enter your email:\n",
      "Invalid Email.\n",
      "\n",
      "\n"
     ]
    },
    {
     "ename": "KeyboardInterrupt",
     "evalue": "Interrupted by user",
     "output_type": "error",
     "traceback": [
      "\u001b[1;31m---------------------------------------------------------------------------\u001b[0m",
      "\u001b[1;31mKeyboardInterrupt\u001b[0m                         Traceback (most recent call last)",
      "\u001b[1;32m<ipython-input-9-3379dac9f3ff>\u001b[0m in \u001b[0;36m<module>\u001b[1;34m\u001b[0m\n\u001b[0;32m      7\u001b[0m \u001b[1;33m\u001b[0m\u001b[0m\n\u001b[0;32m      8\u001b[0m \u001b[1;32mif\u001b[0m \u001b[0m__name__\u001b[0m \u001b[1;33m==\u001b[0m \u001b[1;34m\"__main__\"\u001b[0m\u001b[1;33m:\u001b[0m\u001b[1;33m\u001b[0m\u001b[1;33m\u001b[0m\u001b[0m\n\u001b[1;32m----> 9\u001b[1;33m     \u001b[0mmain\u001b[0m\u001b[1;33m(\u001b[0m\u001b[1;33m)\u001b[0m\u001b[1;33m\u001b[0m\u001b[1;33m\u001b[0m\u001b[0m\n\u001b[0m",
      "\u001b[1;32m<ipython-input-9-3379dac9f3ff>\u001b[0m in \u001b[0;36mmain\u001b[1;34m()\u001b[0m\n\u001b[0;32m      4\u001b[0m     \u001b[0mconn\u001b[0m \u001b[1;33m=\u001b[0m \u001b[0mdatabaseConfig\u001b[0m\u001b[1;33m(\u001b[0m\u001b[1;33m)\u001b[0m\u001b[1;33m\u001b[0m\u001b[1;33m\u001b[0m\u001b[0m\n\u001b[0;32m      5\u001b[0m \u001b[1;31m#     signup(conn)\u001b[0m\u001b[1;33m\u001b[0m\u001b[1;33m\u001b[0m\u001b[1;33m\u001b[0m\u001b[0m\n\u001b[1;32m----> 6\u001b[1;33m     \u001b[0mlogin\u001b[0m\u001b[1;33m(\u001b[0m\u001b[0mconn\u001b[0m\u001b[1;33m)\u001b[0m\u001b[1;33m\u001b[0m\u001b[1;33m\u001b[0m\u001b[0m\n\u001b[0m\u001b[0;32m      7\u001b[0m \u001b[1;33m\u001b[0m\u001b[0m\n\u001b[0;32m      8\u001b[0m \u001b[1;32mif\u001b[0m \u001b[0m__name__\u001b[0m \u001b[1;33m==\u001b[0m \u001b[1;34m\"__main__\"\u001b[0m\u001b[1;33m:\u001b[0m\u001b[1;33m\u001b[0m\u001b[1;33m\u001b[0m\u001b[0m\n",
      "\u001b[1;32m<ipython-input-6-a51e190304e1>\u001b[0m in \u001b[0;36mlogin\u001b[1;34m(conn)\u001b[0m\n\u001b[0;32m      2\u001b[0m \u001b[1;33m\u001b[0m\u001b[0m\n\u001b[0;32m      3\u001b[0m \u001b[1;32mdef\u001b[0m \u001b[0mlogin\u001b[0m\u001b[1;33m(\u001b[0m\u001b[0mconn\u001b[0m\u001b[1;33m)\u001b[0m\u001b[1;33m:\u001b[0m\u001b[1;33m\u001b[0m\u001b[1;33m\u001b[0m\u001b[0m\n\u001b[1;32m----> 4\u001b[1;33m     \u001b[0memail\u001b[0m\u001b[1;33m=\u001b[0m\u001b[0minsertMail\u001b[0m\u001b[1;33m(\u001b[0m\u001b[1;33m)\u001b[0m\u001b[1;33m\u001b[0m\u001b[1;33m\u001b[0m\u001b[0m\n\u001b[0m\u001b[0;32m      5\u001b[0m     \u001b[0mpassword\u001b[0m \u001b[1;33m=\u001b[0m \u001b[0mgetpass\u001b[0m\u001b[1;33m.\u001b[0m\u001b[0mgetpass\u001b[0m\u001b[1;33m(\u001b[0m\u001b[1;34m'Enter your password:'\u001b[0m\u001b[1;33m)\u001b[0m\u001b[1;33m\u001b[0m\u001b[1;33m\u001b[0m\u001b[0m\n\u001b[0;32m      6\u001b[0m     \u001b[0mhashedPassword\u001b[0m\u001b[1;33m=\u001b[0m\u001b[0mhashlib\u001b[0m\u001b[1;33m.\u001b[0m\u001b[0msha256\u001b[0m\u001b[1;33m(\u001b[0m\u001b[0mbytes\u001b[0m\u001b[1;33m(\u001b[0m\u001b[0mpassword\u001b[0m\u001b[1;33m,\u001b[0m \u001b[0mencoding\u001b[0m\u001b[1;33m=\u001b[0m\u001b[1;34m\"ascii\"\u001b[0m\u001b[1;33m)\u001b[0m\u001b[1;33m)\u001b[0m\u001b[1;33m.\u001b[0m\u001b[0mhexdigest\u001b[0m\u001b[1;33m(\u001b[0m\u001b[1;33m)\u001b[0m\u001b[1;33m\u001b[0m\u001b[1;33m\u001b[0m\u001b[0m\n",
      "\u001b[1;32m<ipython-input-1-5443f59cf5e6>\u001b[0m in \u001b[0;36minsertMail\u001b[1;34m()\u001b[0m\n\u001b[0;32m     17\u001b[0m     \u001b[1;32melse\u001b[0m\u001b[1;33m:\u001b[0m\u001b[1;33m\u001b[0m\u001b[1;33m\u001b[0m\u001b[0m\n\u001b[0;32m     18\u001b[0m         \u001b[0mprint\u001b[0m\u001b[1;33m(\u001b[0m\u001b[1;34m'\\n'\u001b[0m\u001b[1;33m)\u001b[0m\u001b[1;33m\u001b[0m\u001b[1;33m\u001b[0m\u001b[0m\n\u001b[1;32m---> 19\u001b[1;33m         \u001b[0minsertMail\u001b[0m\u001b[1;33m(\u001b[0m\u001b[1;33m)\u001b[0m\u001b[1;33m\u001b[0m\u001b[1;33m\u001b[0m\u001b[0m\n\u001b[0m",
      "\u001b[1;32m<ipython-input-1-5443f59cf5e6>\u001b[0m in \u001b[0;36minsertMail\u001b[1;34m()\u001b[0m\n\u001b[0;32m     17\u001b[0m     \u001b[1;32melse\u001b[0m\u001b[1;33m:\u001b[0m\u001b[1;33m\u001b[0m\u001b[1;33m\u001b[0m\u001b[0m\n\u001b[0;32m     18\u001b[0m         \u001b[0mprint\u001b[0m\u001b[1;33m(\u001b[0m\u001b[1;34m'\\n'\u001b[0m\u001b[1;33m)\u001b[0m\u001b[1;33m\u001b[0m\u001b[1;33m\u001b[0m\u001b[0m\n\u001b[1;32m---> 19\u001b[1;33m         \u001b[0minsertMail\u001b[0m\u001b[1;33m(\u001b[0m\u001b[1;33m)\u001b[0m\u001b[1;33m\u001b[0m\u001b[1;33m\u001b[0m\u001b[0m\n\u001b[0m",
      "\u001b[1;32m<ipython-input-1-5443f59cf5e6>\u001b[0m in \u001b[0;36minsertMail\u001b[1;34m()\u001b[0m\n\u001b[0;32m     17\u001b[0m     \u001b[1;32melse\u001b[0m\u001b[1;33m:\u001b[0m\u001b[1;33m\u001b[0m\u001b[1;33m\u001b[0m\u001b[0m\n\u001b[0;32m     18\u001b[0m         \u001b[0mprint\u001b[0m\u001b[1;33m(\u001b[0m\u001b[1;34m'\\n'\u001b[0m\u001b[1;33m)\u001b[0m\u001b[1;33m\u001b[0m\u001b[1;33m\u001b[0m\u001b[0m\n\u001b[1;32m---> 19\u001b[1;33m         \u001b[0minsertMail\u001b[0m\u001b[1;33m(\u001b[0m\u001b[1;33m)\u001b[0m\u001b[1;33m\u001b[0m\u001b[1;33m\u001b[0m\u001b[0m\n\u001b[0m",
      "\u001b[1;32m<ipython-input-1-5443f59cf5e6>\u001b[0m in \u001b[0;36minsertMail\u001b[1;34m()\u001b[0m\n\u001b[0;32m     17\u001b[0m     \u001b[1;32melse\u001b[0m\u001b[1;33m:\u001b[0m\u001b[1;33m\u001b[0m\u001b[1;33m\u001b[0m\u001b[0m\n\u001b[0;32m     18\u001b[0m         \u001b[0mprint\u001b[0m\u001b[1;33m(\u001b[0m\u001b[1;34m'\\n'\u001b[0m\u001b[1;33m)\u001b[0m\u001b[1;33m\u001b[0m\u001b[1;33m\u001b[0m\u001b[0m\n\u001b[1;32m---> 19\u001b[1;33m         \u001b[0minsertMail\u001b[0m\u001b[1;33m(\u001b[0m\u001b[1;33m)\u001b[0m\u001b[1;33m\u001b[0m\u001b[1;33m\u001b[0m\u001b[0m\n\u001b[0m",
      "\u001b[1;32m<ipython-input-1-5443f59cf5e6>\u001b[0m in \u001b[0;36minsertMail\u001b[1;34m()\u001b[0m\n\u001b[0;32m     12\u001b[0m \u001b[1;33m\u001b[0m\u001b[0m\n\u001b[0;32m     13\u001b[0m \u001b[1;32mdef\u001b[0m \u001b[0minsertMail\u001b[0m\u001b[1;33m(\u001b[0m\u001b[1;33m)\u001b[0m\u001b[1;33m:\u001b[0m\u001b[1;33m\u001b[0m\u001b[1;33m\u001b[0m\u001b[0m\n\u001b[1;32m---> 14\u001b[1;33m     \u001b[0mmail\u001b[0m \u001b[1;33m=\u001b[0m \u001b[0minput\u001b[0m\u001b[1;33m(\u001b[0m\u001b[1;34m\"Enter your email:\"\u001b[0m\u001b[1;33m)\u001b[0m\u001b[1;33m\u001b[0m\u001b[1;33m\u001b[0m\u001b[0m\n\u001b[0m\u001b[0;32m     15\u001b[0m     \u001b[1;32mif\u001b[0m \u001b[0mcheckMail\u001b[0m\u001b[1;33m(\u001b[0m\u001b[0mmail\u001b[0m\u001b[1;33m)\u001b[0m\u001b[1;33m==\u001b[0m\u001b[1;32mTrue\u001b[0m\u001b[1;33m:\u001b[0m\u001b[1;33m\u001b[0m\u001b[1;33m\u001b[0m\u001b[0m\n\u001b[0;32m     16\u001b[0m         \u001b[1;32mreturn\u001b[0m \u001b[0mmail\u001b[0m\u001b[1;33m\u001b[0m\u001b[1;33m\u001b[0m\u001b[0m\n",
      "\u001b[1;32m~\\anaconda3\\lib\\site-packages\\ipykernel\\kernelbase.py\u001b[0m in \u001b[0;36mraw_input\u001b[1;34m(self, prompt)\u001b[0m\n\u001b[0;32m    858\u001b[0m                 \u001b[1;34m\"raw_input was called, but this frontend does not support input requests.\"\u001b[0m\u001b[1;33m\u001b[0m\u001b[1;33m\u001b[0m\u001b[0m\n\u001b[0;32m    859\u001b[0m             )\n\u001b[1;32m--> 860\u001b[1;33m         return self._input_request(str(prompt),\n\u001b[0m\u001b[0;32m    861\u001b[0m             \u001b[0mself\u001b[0m\u001b[1;33m.\u001b[0m\u001b[0m_parent_ident\u001b[0m\u001b[1;33m,\u001b[0m\u001b[1;33m\u001b[0m\u001b[1;33m\u001b[0m\u001b[0m\n\u001b[0;32m    862\u001b[0m             \u001b[0mself\u001b[0m\u001b[1;33m.\u001b[0m\u001b[0m_parent_header\u001b[0m\u001b[1;33m,\u001b[0m\u001b[1;33m\u001b[0m\u001b[1;33m\u001b[0m\u001b[0m\n",
      "\u001b[1;32m~\\anaconda3\\lib\\site-packages\\ipykernel\\kernelbase.py\u001b[0m in \u001b[0;36m_input_request\u001b[1;34m(self, prompt, ident, parent, password)\u001b[0m\n\u001b[0;32m    902\u001b[0m             \u001b[1;32mexcept\u001b[0m \u001b[0mKeyboardInterrupt\u001b[0m\u001b[1;33m:\u001b[0m\u001b[1;33m\u001b[0m\u001b[1;33m\u001b[0m\u001b[0m\n\u001b[0;32m    903\u001b[0m                 \u001b[1;31m# re-raise KeyboardInterrupt, to truncate traceback\u001b[0m\u001b[1;33m\u001b[0m\u001b[1;33m\u001b[0m\u001b[1;33m\u001b[0m\u001b[0m\n\u001b[1;32m--> 904\u001b[1;33m                 \u001b[1;32mraise\u001b[0m \u001b[0mKeyboardInterrupt\u001b[0m\u001b[1;33m(\u001b[0m\u001b[1;34m\"Interrupted by user\"\u001b[0m\u001b[1;33m)\u001b[0m \u001b[1;32mfrom\u001b[0m \u001b[1;32mNone\u001b[0m\u001b[1;33m\u001b[0m\u001b[1;33m\u001b[0m\u001b[0m\n\u001b[0m\u001b[0;32m    905\u001b[0m             \u001b[1;32mexcept\u001b[0m \u001b[0mException\u001b[0m \u001b[1;32mas\u001b[0m \u001b[0me\u001b[0m\u001b[1;33m:\u001b[0m\u001b[1;33m\u001b[0m\u001b[1;33m\u001b[0m\u001b[0m\n\u001b[0;32m    906\u001b[0m                 \u001b[0mself\u001b[0m\u001b[1;33m.\u001b[0m\u001b[0mlog\u001b[0m\u001b[1;33m.\u001b[0m\u001b[0mwarning\u001b[0m\u001b[1;33m(\u001b[0m\u001b[1;34m\"Invalid Message:\"\u001b[0m\u001b[1;33m,\u001b[0m \u001b[0mexc_info\u001b[0m\u001b[1;33m=\u001b[0m\u001b[1;32mTrue\u001b[0m\u001b[1;33m)\u001b[0m\u001b[1;33m\u001b[0m\u001b[1;33m\u001b[0m\u001b[0m\n",
      "\u001b[1;31mKeyboardInterrupt\u001b[0m: Interrupted by user"
     ]
    }
   ],
   "source": [
    "import psycopg2\n",
    "\n",
    "def main():\n",
    "    conn = databaseConfig()\n",
    "#     signup(conn)\n",
    "    login(conn)\n",
    "    \n",
    "if __name__ == \"__main__\":\n",
    "    main()"
   ]
  },
  {
   "cell_type": "code",
   "execution_count": 100,
   "id": "0cfd30d3",
   "metadata": {},
   "outputs": [
    {
     "name": "stdout",
     "output_type": "stream",
     "text": [
      "Press 1 for cracking MD5. \n",
      "Press 2 for cracking SHA1.\n",
      "Press 3 for cracking SHA256.\n",
      "1\n",
      "Your message is:  hytrf\n",
      "\n"
     ]
    }
   ],
   "source": [
    "crack('588605e5f53012e8760005e0fd4eedd3')"
   ]
  },
  {
   "cell_type": "code",
   "execution_count": 91,
   "id": "47997bbc",
   "metadata": {},
   "outputs": [],
   "source": [
    "# Symmetrical encryption\n",
    "import os\n",
    "from cryptography.hazmat.primitives.ciphers import Cipher, algorithms, modes\n",
    "from cryptography.hazmat.primitives import padding\n",
    "\n",
    "def symmEncryption(message):\n",
    "    global iv\n",
    "    global cipher\n",
    "    choice=input('Press 1 for AES encryption. \\nPress 2 for 3DES encryption.\\n')\n",
    "    key = os.urandom(16)\n",
    "    if choice != '1' and choice != '2':\n",
    "        symmEncryption(message)\n",
    "    if choice == '1': \n",
    "        iv = os.urandom(16)\n",
    "        cipher = Cipher(algorithms.AES(key), modes.CBC(iv))\n",
    "    if choice == '2': \n",
    "        iv = os.urandom(8)\n",
    "        cipher = Cipher(algorithms.TripleDES(key), modes.CBC(iv))\n",
    "#     Padding\n",
    "    padder = padding.ANSIX923(128).padder()\n",
    "    padded_data = padder.update(bytes(message, encoding=\"ascii\"))\n",
    "    padded_data += padder.finalize()\n",
    "#     Encryption\n",
    "    encryptor = cipher.encryptor()\n",
    "    encryptedMessage=encryptor.update(padded_data) + encryptor.finalize()\n",
    "    print(encryptedMessage)\n",
    "    return encryptedMessage, key,iv\n",
    "\n",
    "def symmDecryption(message,key,iv):\n",
    "    choice=input('Press 1 for AES decryption. \\nPress 2 for 3DES decryption.\\n')\n",
    "    if choice != '1' and choice != '2':\n",
    "        symmDecryption(message)\n",
    "    if choice == '1': \n",
    "        cipher = Cipher(algorithms.AES(key), modes.CBC(iv))\n",
    "    if choice == '2': \n",
    "        cipher = Cipher(algorithms.TripleDES(key), modes.CBC(iv))\n",
    "#     Decrypting\n",
    "    decryptor = cipher.decryptor()\n",
    "    decryptedMessage=decryptor.update(message) + decryptor.finalize()\n",
    "#     Unpadding\n",
    "    unpadder = padding.ANSIX923(128).unpadder()\n",
    "    unpadded_message=unpadder.update(decryptedMessage) + unpadder.finalize()\n",
    "    return unpadded_message\n"
   ]
  },
  {
   "cell_type": "code",
   "execution_count": 92,
   "id": "81ae5538",
   "metadata": {},
   "outputs": [
    {
     "name": "stdout",
     "output_type": "stream",
     "text": [
      "Press 1 for AES encryption. \n",
      "Press 2 for 3DES encryption.\n",
      "1\n",
      "b'8\\xd5g$\\xd2<\\x0c\\xab%=u\\xfbg\\xfd5/'\n"
     ]
    }
   ],
   "source": [
    "message,key,iv=symmEncryption('hello')"
   ]
  },
  {
   "cell_type": "code",
   "execution_count": 93,
   "id": "646b0fcb",
   "metadata": {},
   "outputs": [
    {
     "name": "stdout",
     "output_type": "stream",
     "text": [
      "Press 1 for AES decryption. \n",
      "Press 2 for 3DES decryption.\n",
      "1\n"
     ]
    },
    {
     "data": {
      "text/plain": [
       "b'hello'"
      ]
     },
     "execution_count": 93,
     "metadata": {},
     "output_type": "execute_result"
    }
   ],
   "source": [
    "symmDecryption(message,key,iv)"
   ]
  },
  {
   "cell_type": "code",
   "execution_count": 112,
   "id": "e997615e",
   "metadata": {},
   "outputs": [],
   "source": [
    "# first you need to run pip install elgamal\n",
    "from elgamal.elgamal import Elgamal\n",
    "from cryptography.hazmat.primitives.asymmetric import rsa\n",
    "from cryptography.hazmat.primitives import serialization\n",
    "\n",
    "def asymEncryption(message):\n",
    "    choice=input('Press 1 for RSA encryption. \\nPress 2 for Elgamal encryption.\\n')\n",
    "    if choice != '1' and choice != '2':\n",
    "        asymEncryption(message)\n",
    "    if choice=='1':\n",
    "        prv_key = rsa.generate_private_key(\n",
    "        public_exponent=65537,\n",
    "        key_size=2048,\n",
    "        )\n",
    "        pem = prv_key.private_bytes(\n",
    "        encoding=serialization.Encoding.PEM,\n",
    "        format=serialization.PrivateFormat.PKCS8,\n",
    "        encryption_algorithm=serialization.BestAvailableEncryption(b'mypassword')\n",
    "        )\n",
    "        pem.splitlines()[0]\n",
    "        ciphertext = public_key.encrypt(\n",
    "            message,\n",
    "            padding.OAEP(\n",
    "            mgf=padding.MGF1(algorithm=hashes.SHA256()),\n",
    "            algorithm=hashes.SHA256(),\n",
    "            label=None\n",
    "        )\n",
    "        )\n",
    "    if choice == '2': \n",
    "        pub_key, prv_key = Elgamal.newkeys(128)\n",
    "        encrypted_message = Elgamal.encrypt(m, pub_key)\n",
    "        print(encrypted_message)\n",
    "        return encrypted_message\n",
    "    \n",
    "def asymDecryption(message,prv_key):\n",
    "    decrypted_message = Elgamal.decrypt(message, prv_key)\n",
    "    print(decrypted_message)\n",
    "    return(decrypted_message)"
   ]
  },
  {
   "cell_type": "code",
   "execution_count": 113,
   "id": "ca20cd8d",
   "metadata": {},
   "outputs": [
    {
     "name": "stdout",
     "output_type": "stream",
     "text": [
      "Press 1 for RSA encryption. \n",
      "Press 2 for Elgamal encryption.\n",
      "1\n"
     ]
    }
   ],
   "source": [
    "asymEncryption('jkf')"
   ]
  },
  {
   "cell_type": "code",
   "execution_count": null,
   "id": "8c4eed6a",
   "metadata": {},
   "outputs": [],
   "source": []
  }
 ],
 "metadata": {
  "kernelspec": {
   "display_name": "Python 3",
   "language": "python",
   "name": "python3"
  },
  "language_info": {
   "codemirror_mode": {
    "name": "ipython",
    "version": 3
   },
   "file_extension": ".py",
   "mimetype": "text/x-python",
   "name": "python",
   "nbconvert_exporter": "python",
   "pygments_lexer": "ipython3",
   "version": "3.8.8"
  }
 },
 "nbformat": 4,
 "nbformat_minor": 5
}
